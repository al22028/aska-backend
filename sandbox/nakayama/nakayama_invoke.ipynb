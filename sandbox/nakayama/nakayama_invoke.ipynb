{
 "cells": [
  {
   "cell_type": "code",
   "execution_count": null,
   "metadata": {},
   "outputs": [],
   "source": [
    "import boto3\n",
    "import json\n",
    "import io\n"
   ]
  },
  {
   "cell_type": "code",
   "execution_count": null,
   "metadata": {},
   "outputs": [],
   "source": [
    "client = boto3.client(\"lambda\")\n",
    "\n",
    "s3 = boto3.client(\"s3\")"
   ]
  },
  {
   "cell_type": "code",
   "execution_count": null,
   "metadata": {},
   "outputs": [],
   "source": [
    "def invoke_lambda(payload:dict):\n",
    "    response = client.invoke(\n",
    "        FunctionName=\"aska-api-dev-ImageToPDFHandler\",\n",
    "        InvocationType=\"RequestResponse\",\n",
    "        LogType=\"Tail\",\n",
    "        Payload=bytes(json.dumps(payload).encode()),\n",
    "    )\n",
    "    response = json.loads(response[\"payload\"].read().decord(\"utf-8\"))\n",
    "\n",
    "def main(payload:dict):\n",
    "    invoke_lambda(payload)"
   ]
  },
  {
   "cell_type": "code",
   "execution_count": null,
   "metadata": {},
   "outputs": [],
   "source": [
    "payload = {\n",
    "    \"body\": {\n",
    "        \"bucket_name\": \"aska-image-bucket-dev\",\n",
    "        \"object_keys\" : [\n",
    "            \"U01998/1-1-2.png\",\n",
    "            \"U01998/1-2-3.png\"\n",
    "        ]\n",
    "    }\n",
    "}"
   ]
  },
  {
   "cell_type": "code",
   "execution_count": null,
   "metadata": {},
   "outputs": [],
   "source": [
    "if __name__ == '__main__':\n",
    "    main(payload=payload)"
   ]
  }
 ],
 "metadata": {
  "language_info": {
   "name": "python"
  }
 },
 "nbformat": 4,
 "nbformat_minor": 2
}
