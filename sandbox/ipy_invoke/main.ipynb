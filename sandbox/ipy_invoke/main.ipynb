{
 "cells": [
  {
   "cell_type": "code",
   "execution_count": 1,
   "metadata": {},
   "outputs": [],
   "source": [
    "# import libs\n",
    "import boto3\n",
    "import json\n",
    "from PIL import Image\n",
    "import io"
   ]
  },
  {
   "cell_type": "code",
   "execution_count": 2,
   "metadata": {},
   "outputs": [],
   "source": [
    "client = boto3.client(\"lambda\")\n",
    "\n",
    "s3 = boto3.client(\"s3\")"
   ]
  },
  {
   "cell_type": "code",
   "execution_count": 3,
   "metadata": {},
   "outputs": [],
   "source": [
    "def fetch_image(bucket: str, key: str) -> Image:\n",
    "    response = s3.get_object(Bucket=bucket, Key=key)\n",
    "    image_data = response[\"Body\"].read()\n",
    "    image = Image.open(io.BytesIO(image_data))\n",
    "    return image\n",
    "\n",
    "def combine_images_horizontally(images):\n",
    "    # すべての画像の幅と高さを計算\n",
    "    total_width = sum(image.width for image in images)\n",
    "    max_height = max(image.height for image in images)\n",
    "\n",
    "    # 新しい画像のキャンバスを作成\n",
    "    new_image = Image.new('RGB', (total_width, max_height))\n",
    "\n",
    "    # 各画像を新しい画像に貼り付け\n",
    "    x_offset = 0\n",
    "    for image in images:\n",
    "        new_image.paste(image, (x_offset, 0))\n",
    "        x_offset += image.width\n",
    "\n",
    "    # 最終的な画像を表示\n",
    "    new_image.show()\n",
    "\n",
    "\n",
    "def invoke_lambda(payload:dict):\n",
    "    response = client.invoke(\n",
    "        FunctionName=\"aska-api-dev-MatchingCalculateHandler\",\n",
    "        InvocationType=\"RequestResponse\",\n",
    "        LogType=\"Tail\",\n",
    "        Payload=bytes(json.dumps(payload).encode()),\n",
    "    )\n",
    "    response = json.loads(response[\"Payload\"].read().decode(\"utf-8\"))\n",
    "    print(response[\"score\"])\n",
    "\n",
    "\n",
    "def main(payload:dict):\n",
    "    id,page = (payload[\"body\"][\"before\"][\"image_object_key\"]).split('/')\n",
    "\n",
    "    bucket_name = payload[\"body\"][\"bucket_name\"]\n",
    "    before_image_key = payload[\"body\"][\"before\"][\"image_object_key\"]\n",
    "    after_image_key = payload[\"body\"][\"after\"][\"image_object_key\"]\n",
    "\n",
    "    before_image = fetch_image(bucket_name,before_image_key)\n",
    "    after_image = fetch_image(bucket_name,after_image_key)\n",
    "    invoke_lambda(payload)\n",
    "    # result_image = fetch_image(\"aska-tmp-dir\",f\"{id}/diff_{page}\")\n",
    "    # combine_images_horizontally([before_image,after_image,result_image])\n",
    "\n"
   ]
  },
  {
   "cell_type": "code",
   "execution_count": 4,
   "metadata": {},
   "outputs": [],
   "source": [
    "# edit here\n",
    "\n",
    "payload = {\n",
    "    \"body\": {\n",
    "        \"bucket_name\": \"aska-image-bucket-dev\",\n",
    "        \"before\": {\"json_object_key\":\"K16611_before/10.json\",\"image_object_key\":\"K16611_before/10.png\"},\n",
    "        \"after\": {\"json_object_key\":\"K16611_after/9.json\",\"image_object_key\":\"K16611_after/9.png\"},\n",
    "        \"params\" : {\n",
    "            \"match_threshold\" : 0.85,\n",
    "            \"threshold\" : 220,\n",
    "            \"eps\" : 20,\n",
    "            \"min_samples\" : 50,\n",
    "        },\n",
    "        \"is_dev\":True\n",
    "    }\n",
    "}\n"
   ]
  },
  {
   "cell_type": "code",
   "execution_count": 5,
   "metadata": {},
   "outputs": [
    {
     "name": "stdout",
     "output_type": "stream",
     "text": [
      "{'statusCode': 200, 'score': 86.4751219512195}\n"
     ]
    }
   ],
   "source": [
    "if __name__ == '__main__':\n",
    "    main(payload=payload)"
   ]
  }
 ],
 "metadata": {
  "kernelspec": {
   "display_name": ".venv",
   "language": "python",
   "name": "python3"
  },
  "language_info": {
   "codemirror_mode": {
    "name": "ipython",
    "version": 3
   },
   "file_extension": ".py",
   "mimetype": "text/x-python",
   "name": "python",
   "nbconvert_exporter": "python",
   "pygments_lexer": "ipython3",
   "version": "3.11.6"
  }
 },
 "nbformat": 4,
 "nbformat_minor": 2
}
