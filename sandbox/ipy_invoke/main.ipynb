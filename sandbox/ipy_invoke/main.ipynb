{
 "cells": [
  {
   "cell_type": "code",
   "execution_count": 16,
   "metadata": {},
   "outputs": [],
   "source": [
    "# import libs\n",
    "import boto3\n",
    "import json"
   ]
  },
  {
   "cell_type": "code",
   "execution_count": 17,
   "metadata": {},
   "outputs": [],
   "source": [
    "client = boto3.client(\"lambda\")\n",
    "\n",
    "s3 = boto3.client(\"s3\")"
   ]
  },
  {
   "cell_type": "code",
   "execution_count": 18,
   "metadata": {},
   "outputs": [],
   "source": [
    "# functions\n",
    "\n",
    "def get_object_body(bucket: str, key: str) -> bytes:\n",
    "    response = s3.get_object(Bucket=bucket, Key=key)\n",
    "    return response[\"Body\"].read().decode(\"utf-8\")\n",
    "\n",
    "\n",
    "def invoke_lambda(function_type:str,before_id:str,after_id:str,before_page:str,after_page:str):\n",
    "    payload = {\n",
    "        \"body\": {\n",
    "            \"bucket_name\": \"aska-image-bucket-dev\",\n",
    "            \"before\": {\"json_object_key\":f\"{before_id}/{before_page}.json\",\"image_object_key\":f\"{before_id}/{before_page}.png\"},\n",
    "            \"after\": {\"json_object_key\":f\"{after_id}/{after_page}.json\",\"image_object_key\":f\"{after_id}/{after_page}.png\"},\n",
    "            \"params\" : {\n",
    "                \"match_threshold\" : 0.85,\n",
    "                \"threshold\" : 220,\n",
    "                \"eps\" : 20,\n",
    "                \"min_samples\" : 50,\n",
    "            },\n",
    "        }\n",
    "    }\n",
    "\n",
    "    response = client.invoke(\n",
    "        FunctionName=function_type,\n",
    "        InvocationType=\"RequestResponse\",\n",
    "        LogType=\"Tail\",\n",
    "        Payload=bytes(json.dumps(payload).encode()),\n",
    "    )\n",
    "    print(response[\"Payload\"].read().decode(\"utf-8\"))\n"
   ]
  },
  {
   "cell_type": "code",
   "execution_count": 22,
   "metadata": {},
   "outputs": [
    {
     "name": "stdout",
     "output_type": "stream",
     "text": [
      "{\"statusCode\": 200, \"body\": \"{\\\"message\\\": \\\"Created and sdaved diff image\\\"}\"}\n"
     ]
    }
   ],
   "source": [
    "# main\n",
    "if __name__ == '__main__':\n",
    "    invoke_lambda(\"aska-api-dev-ImageDiffHandler\",\"id231321\",\"id231321\",\"1\",\"2\")"
   ]
  }
 ],
 "metadata": {
  "kernelspec": {
   "display_name": ".venv",
   "language": "python",
   "name": "python3"
  },
  "language_info": {
   "codemirror_mode": {
    "name": "ipython",
    "version": 3
   },
   "file_extension": ".py",
   "mimetype": "text/x-python",
   "name": "python",
   "nbconvert_exporter": "python",
   "pygments_lexer": "ipython3",
   "version": "3.11.6"
  }
 },
 "nbformat": 4,
 "nbformat_minor": 2
}
