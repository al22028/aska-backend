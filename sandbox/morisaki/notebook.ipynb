{
 "cells": [
  {
   "cell_type": "code",
   "execution_count": 7,
   "metadata": {},
   "outputs": [
    {
     "ename": "ModuleNotFoundError",
     "evalue": "No module named 'PIL'",
     "output_type": "error",
     "traceback": [
      "\u001b[0;31m---------------------------------------------------------------------------\u001b[0m",
      "\u001b[0;31mModuleNotFoundError\u001b[0m                       Traceback (most recent call last)",
      "Cell \u001b[0;32mIn[7], line 3\u001b[0m\n\u001b[1;32m      1\u001b[0m \u001b[38;5;28;01mimport\u001b[39;00m \u001b[38;5;21;01mos\u001b[39;00m\n\u001b[1;32m      2\u001b[0m \u001b[38;5;28;01mfrom\u001b[39;00m \u001b[38;5;21;01mglob\u001b[39;00m \u001b[38;5;28;01mimport\u001b[39;00m glob\n\u001b[0;32m----> 3\u001b[0m \u001b[38;5;28;01mfrom\u001b[39;00m \u001b[38;5;21;01mPIL\u001b[39;00m \u001b[38;5;28;01mimport\u001b[39;00m Image\n\u001b[1;32m      4\u001b[0m \u001b[38;5;28;01mimport\u001b[39;00m \u001b[38;5;21;01mio\u001b[39;00m\n\u001b[1;32m      5\u001b[0m \u001b[38;5;28;01mimport\u001b[39;00m \u001b[38;5;21;01mshutil\u001b[39;00m\n",
      "\u001b[0;31mModuleNotFoundError\u001b[0m: No module named 'PIL'"
     ]
    }
   ],
   "source": [
    "import os\n",
    "from glob import glob\n",
    "from PIL import Image\n",
    "import io\n",
    "import shutil\n",
    "import math\n",
    "import logging\n",
    "logger = logging.getLogger()\n",
    "logger.setLevel(logging.DEBUG)"
   ]
  },
  {
   "cell_type": "code",
   "execution_count": null,
   "metadata": {},
   "outputs": [],
   "source": [
    "current_directory = os.getcwd()\n",
    "input_dir = os.path.join(current_directory, 'input')\n",
    "all_files = glob(os.path.join(input_dir, '*/**'))"
   ]
  },
  {
   "cell_type": "code",
   "execution_count": null,
   "metadata": {},
   "outputs": [],
   "source": [
    "def resize_and_standardize_image(input_path, height=1000, rotate=True, buffer_save=False):\n",
    "    \"\"\"\n",
    "    Resize and standardize the orientation of an image.\n",
    "\n",
    "    Parameters:\n",
    "        input_path (str): Path to the input image file.\n",
    "        width (int): Desired width of the output image (default is 1414).\n",
    "        height (int): Desired height of the output image (default is 1000).\n",
    "        rotate (bool): Whether to rotate vertically oriented images (default is True).\n",
    "        buffer_save (book): check if save on buffer or not.\n",
    "\n",
    "    Return:\n",
    "        img_resized: return resized image based on width and height.\n",
    "    \"\"\"\n",
    "    file_name = input_path.split('/')[-1]\n",
    "    sub_dir = input_path.split('/')[-2]\n",
    "    width = int(height * math.sqrt(2))\n",
    "    img = Image.open(input_path)\n",
    "\n",
    "    if rotate and img.height > img.width:\n",
    "        img = img.rotate(90, expand=True)\n",
    "        logging.info(f\"Rotated image: {file_name}\")\n",
    "\n",
    "    current_directory = os.getcwd()\n",
    "    OUTPUT_DIR = os.path.join(current_directory, 'output', sub_dir)\n",
    "    if not os.path.exists(OUTPUT_DIR):\n",
    "        os.makedirs(OUTPUT_DIR)\n",
    "        logging.info(f\"Created directory: {OUTPUT_DIR}\")\n",
    "\n",
    "    file_path = os.path.join(OUTPUT_DIR, 'output_' + file_name)\n",
    "    img_resized = img.resize((width, height))\n",
    "\n",
    "    if(not buffer_save):\n",
    "        img_resized.save(file_path)\n",
    "    else:\n",
    "        buffer = io.BytesIO()\n",
    "        img_resized.save(buffer, format=\"PNG\")\n",
    "        buffer.seek(0)\n",
    "    logging.info(f\"Saved resized image: {file_path}\")\n",
    "    return img_resized"
   ]
  },
  {
   "cell_type": "code",
   "execution_count": null,
   "metadata": {},
   "outputs": [],
   "source": [
    "shutil.rmtree(os.path.join(os.getcwd(), 'output')) # テスト用\n",
    "\n",
    "for file_path in all_files:\n",
    "    resize_and_standardize_image(file_path)"
   ]
  },
  {
   "cell_type": "code",
   "execution_count": null,
   "metadata": {},
   "outputs": [],
   "source": []
  }
 ],
 "metadata": {
  "kernelspec": {
   "display_name": "env-shoto",
   "language": "python",
   "name": "python3"
  },
  "language_info": {
   "codemirror_mode": {
    "name": "ipython",
    "version": 3
   },
   "file_extension": ".py",
   "mimetype": "text/x-python",
   "name": "python",
   "nbconvert_exporter": "python",
   "pygments_lexer": "ipython3",
   "version": "3.11.0"
  }
 },
 "nbformat": 4,
 "nbformat_minor": 2
}
