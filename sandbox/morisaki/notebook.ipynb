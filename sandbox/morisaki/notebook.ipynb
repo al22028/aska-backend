{
 "cells": [
  {
   "cell_type": "code",
   "execution_count": 1,
   "metadata": {},
   "outputs": [],
   "source": [
    "import os\n",
    "from glob import glob\n",
    "from PIL import Image\n",
    "import io\n",
    "import shutil\n",
    "import logging\n",
    "logger = logging.getLogger()\n",
    "logger.setLevel(logging.DEBUG)"
   ]
  },
  {
   "cell_type": "code",
   "execution_count": 2,
   "metadata": {},
   "outputs": [
    {
     "name": "stdout",
     "output_type": "stream",
     "text": [
      "8\n"
     ]
    }
   ],
   "source": [
    "current_directory = os.getcwd()\n",
    "input_dir = os.path.join(current_directory, 'input')\n",
    "all_files = glob(os.path.join(input_dir, '*/**'))"
   ]
  },
  {
   "cell_type": "code",
   "execution_count": 7,
   "metadata": {},
   "outputs": [],
   "source": [
    "def resize_and_standardize_image(input_path, width=1414, height=1000, rotate=True, buffer_save=False):\n",
    "    \"\"\"\n",
    "    Resize and standardize the orientation of an image.\n",
    "\n",
    "    Parameters:\n",
    "        input_path (str): Path to the input image file.\n",
    "        width (int): Desired width of the output image (default is 1414).\n",
    "        height (int): Desired height of the output image (default is 1000).\n",
    "        rotate (bool): Whether to rotate vertically oriented images (default is True).\n",
    "        buffer_save (book): check if save on buffer or not. \n",
    "\n",
    "    Return: \n",
    "        img_resized: return resized image based on width and height. \n",
    "    \"\"\"\n",
    "    file_name = input_path.split('/')[-1] \n",
    "    sub_dir = input_path.split('/')[-2]\n",
    "    img = Image.open(input_path)\n",
    "\n",
    "    if rotate and img.height > img.width:\n",
    "        img = img.rotate(90, expand=True)\n",
    "        logging.info(f\"Rotated image: {file_name}\")\n",
    "\n",
    "    current_directory = os.getcwd()\n",
    "    OUTPUT_DIR = os.path.join(current_directory, 'output', sub_dir)\n",
    "    if not os.path.exists(OUTPUT_DIR):\n",
    "        os.makedirs(OUTPUT_DIR)\n",
    "        logging.info(f\"Created directory: {OUTPUT_DIR}\")\n",
    "        \n",
    "    file_path = os.path.join(OUTPUT_DIR, 'output_' + file_name)\n",
    "    img_resized = img.resize((width, height))\n",
    "\n",
    "    if(not buffer_save):\n",
    "        img_resized.save(file_path)\n",
    "    else:\n",
    "        buffer = io.BytesIO()\n",
    "        img_resized.save(buffer, format=\"PNG\")\n",
    "        buffer.seek(0)\n",
    "    logging.info(f\"Saved resized image: {file_path}\")\n",
    "    return img_resized"
   ]
  },
  {
   "cell_type": "code",
   "execution_count": 10,
   "metadata": {},
   "outputs": [
    {
     "name": "stderr",
     "output_type": "stream",
     "text": [
      "DEBUG:PIL.PngImagePlugin:STREAM b'IHDR' 16 13\n",
      "DEBUG:PIL.PngImagePlugin:STREAM b'IDAT' 41 8192\n",
      "INFO:root:Created directory: /Users/shotomorisaki/Engineering/aska-backend/sandbox/morisaki/output/0\n",
      "INFO:root:Saved resized image: /Users/shotomorisaki/Engineering/aska-backend/sandbox/morisaki/output/0/output_diff.png\n",
      "DEBUG:PIL.PngImagePlugin:STREAM b'IHDR' 16 13\n",
      "DEBUG:PIL.PngImagePlugin:STREAM b'IDAT' 41 8192\n",
      "INFO:root:Saved resized image: /Users/shotomorisaki/Engineering/aska-backend/sandbox/morisaki/output/0/output_after.png\n",
      "DEBUG:PIL.PngImagePlugin:STREAM b'IHDR' 16 13\n",
      "DEBUG:PIL.PngImagePlugin:STREAM b'IDAT' 41 8192\n",
      "INFO:root:Created directory: /Users/shotomorisaki/Engineering/aska-backend/sandbox/morisaki/output/1\n",
      "INFO:root:Saved resized image: /Users/shotomorisaki/Engineering/aska-backend/sandbox/morisaki/output/1/output_before.png\n",
      "DEBUG:PIL.PngImagePlugin:STREAM b'IHDR' 16 13\n",
      "DEBUG:PIL.PngImagePlugin:STREAM b'IDAT' 41 8192\n",
      "INFO:root:Saved resized image: /Users/shotomorisaki/Engineering/aska-backend/sandbox/morisaki/output/1/output_diff.png\n",
      "DEBUG:PIL.PngImagePlugin:STREAM b'IHDR' 16 13\n",
      "DEBUG:PIL.PngImagePlugin:STREAM b'IDAT' 41 8192\n",
      "INFO:root:Saved resized image: /Users/shotomorisaki/Engineering/aska-backend/sandbox/morisaki/output/1/output_after.png\n",
      "DEBUG:PIL.PngImagePlugin:STREAM b'IHDR' 16 13\n",
      "DEBUG:PIL.PngImagePlugin:STREAM b'IDAT' 41 8192\n",
      "INFO:root:Created directory: /Users/shotomorisaki/Engineering/aska-backend/sandbox/morisaki/output/2\n",
      "INFO:root:Saved resized image: /Users/shotomorisaki/Engineering/aska-backend/sandbox/morisaki/output/2/output_before.png\n",
      "DEBUG:PIL.PngImagePlugin:STREAM b'IHDR' 16 13\n",
      "DEBUG:PIL.PngImagePlugin:STREAM b'IDAT' 41 8192\n",
      "INFO:root:Saved resized image: /Users/shotomorisaki/Engineering/aska-backend/sandbox/morisaki/output/2/output_diff.png\n",
      "DEBUG:PIL.PngImagePlugin:STREAM b'IHDR' 16 13\n",
      "DEBUG:PIL.PngImagePlugin:STREAM b'IDAT' 41 8192\n",
      "INFO:root:Saved resized image: /Users/shotomorisaki/Engineering/aska-backend/sandbox/morisaki/output/2/output_after.png\n"
     ]
    }
   ],
   "source": [
    "shutil.rmtree(os.path.join(os.getcwd(), 'output')) # テスト用\n",
    "\n",
    "for file_path in all_files:\n",
    "    resize_and_standardize_image(file_path)"
   ]
  },
  {
   "cell_type": "code",
   "execution_count": null,
   "metadata": {},
   "outputs": [],
   "source": []
  }
 ],
 "metadata": {
  "kernelspec": {
   "display_name": "env-shoto",
   "language": "python",
   "name": "python3"
  },
  "language_info": {
   "codemirror_mode": {
    "name": "ipython",
    "version": 3
   },
   "file_extension": ".py",
   "mimetype": "text/x-python",
   "name": "python",
   "nbconvert_exporter": "python",
   "pygments_lexer": "ipython3",
   "version": "3.11.0"
  }
 },
 "nbformat": 4,
 "nbformat_minor": 2
}
